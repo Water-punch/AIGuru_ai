{
 "cells": [
  {
   "cell_type": "code",
   "execution_count": 1,
   "id": "ded76334-5155-4285-a66e-80489dd1db37",
   "metadata": {},
   "outputs": [
    {
     "name": "stderr",
     "output_type": "stream",
     "text": [
      "2024-01-10 09:33:49.770988: I tensorflow/core/platform/cpu_feature_guard.cc:193] This TensorFlow binary is optimized with oneAPI Deep Neural Network Library (oneDNN) to use the following CPU instructions in performance-critical operations:  AVX2 AVX512F AVX512_VNNI FMA\n",
      "To enable them in other operations, rebuild TensorFlow with the appropriate compiler flags.\n",
      "2024-01-10 09:33:49.886251: I tensorflow/core/util/port.cc:104] oneDNN custom operations are on. You may see slightly different numerical results due to floating-point round-off errors from different computation orders. To turn them off, set the environment variable `TF_ENABLE_ONEDNN_OPTS=0`.\n",
      "2024-01-10 09:33:50.669182: W tensorflow/compiler/xla/stream_executor/platform/default/dso_loader.cc:64] Could not load dynamic library 'libnvinfer.so.7'; dlerror: libnvinfer.so.7: cannot open shared object file: No such file or directory; LD_LIBRARY_PATH: /usr/local/nvidia/lib:/usr/local/nvidia/lib64\n",
      "2024-01-10 09:33:50.669255: W tensorflow/compiler/xla/stream_executor/platform/default/dso_loader.cc:64] Could not load dynamic library 'libnvinfer_plugin.so.7'; dlerror: libnvinfer_plugin.so.7: cannot open shared object file: No such file or directory; LD_LIBRARY_PATH: /usr/local/nvidia/lib:/usr/local/nvidia/lib64\n",
      "2024-01-10 09:33:50.669263: W tensorflow/compiler/tf2tensorrt/utils/py_utils.cc:38] TF-TRT Warning: Cannot dlopen some TensorRT libraries. If you would like to use Nvidia GPU with TensorRT, please make sure the missing libraries mentioned above are installed properly.\n"
     ]
    }
   ],
   "source": [
    "import numpy as np\n",
    "\n",
    "import tensorflow as tf\n",
    "from tensorflow.keras import layers, Sequential\n",
    "from tensorflow.keras.optimizers import Adam\n",
    "from tensorflow.keras.datasets import imdb\n",
    "from tensorflow.keras.preprocessing.sequence import pad_sequences"
   ]
  },
  {
   "cell_type": "code",
   "execution_count": 2,
   "id": "527a9b03-f4e4-4537-8dc3-68c596ced152",
   "metadata": {},
   "outputs": [],
   "source": [
    "train_x = np.load('train_x.npy') # 파일 불러와서 확인\n",
    "test_x = np.load('test_x.npy') # 파일 불러와서 확인"
   ]
  },
  {
   "cell_type": "code",
   "execution_count": 3,
   "id": "5ec186db-4c2d-4c21-9512-73155b56f192",
   "metadata": {},
   "outputs": [],
   "source": [
    "train_y = np.load('train_y.npy') # 파일 불러와서 확인\n",
    "test_y = np.load('test_y.npy') # 파일 불러와서 확인"
   ]
  },
  {
   "cell_type": "code",
   "execution_count": 4,
   "id": "4c6663be-daf1-4850-84d5-02617836ce4d",
   "metadata": {},
   "outputs": [],
   "source": [
    "train_size, test_size = 4000, 1000"
   ]
  },
  {
   "cell_type": "code",
   "execution_count": 5,
   "id": "f93805db-c911-4861-8885-2de6e1c1f6cd",
   "metadata": {},
   "outputs": [],
   "source": [
    "X_train = train_x[:train_size]\n",
    "Y_train = train_y[:train_size]\n",
    "X_test = test_x[:test_size]\n",
    "Y_test = test_y[:test_size]"
   ]
  },
  {
   "cell_type": "code",
   "execution_count": 8,
   "id": "20054775-b4d7-4172-8444-792b1e788a28",
   "metadata": {},
   "outputs": [
    {
     "name": "stdout",
     "output_type": "stream",
     "text": [
      "4000 1000\n"
     ]
    }
   ],
   "source": [
    "print(len(X_train), len(X_test))"
   ]
  },
  {
   "cell_type": "code",
   "execution_count": 9,
   "id": "a719a139-9485-423a-8bba-7ad3055467d0",
   "metadata": {},
   "outputs": [],
   "source": [
    "def build_lstm_model(num_words, embedding_len):\n",
    "    model = Sequential()\n",
    "\n",
    "    # LSTM 기반 모델을 구성\n",
    "    model.add(layers.Embedding(num_words, embedding_len))\n",
    "    model.add(layers.SimpleRNN(16))\n",
    "    model.add(layers.Dense(1, activation='sigmoid'))\n",
    "    \n",
    "\n",
    "    return model"
   ]
  },
  {
   "cell_type": "code",
   "execution_count": 16,
   "id": "b615debc-e9ae-4c5a-a065-804ed0ed4d21",
   "metadata": {},
   "outputs": [],
   "source": [
    "embedding_len = 100\n",
    "\n",
    "model = build_lstm_model(5000, embedding_len)"
   ]
  },
  {
   "cell_type": "code",
   "execution_count": 17,
   "id": "a80cac59-438d-4eda-8e58-c2ee5d844904",
   "metadata": {},
   "outputs": [
    {
     "name": "stdout",
     "output_type": "stream",
     "text": [
      "Model: \"sequential_1\"\n",
      "_________________________________________________________________\n",
      " Layer (type)                Output Shape              Param #   \n",
      "=================================================================\n",
      " embedding_1 (Embedding)     (None, None, 100)         500000    \n",
      "                                                                 \n",
      " simple_rnn_1 (SimpleRNN)    (None, 16)                1872      \n",
      "                                                                 \n",
      " dense_1 (Dense)             (None, 1)                 17        \n",
      "                                                                 \n",
      "=================================================================\n",
      "Total params: 501,889\n",
      "Trainable params: 501,889\n",
      "Non-trainable params: 0\n",
      "_________________________________________________________________\n"
     ]
    }
   ],
   "source": [
    "model.summary()"
   ]
  },
  {
   "cell_type": "code",
   "execution_count": 19,
   "id": "78c362ee-f267-4696-ad93-7c2c0cfe4077",
   "metadata": {},
   "outputs": [
    {
     "name": "stdout",
     "output_type": "stream",
     "text": [
      "Found existing installation: tensorflow 2.11.0\n",
      "Uninstalling tensorflow-2.11.0:\n",
      "  Successfully uninstalled tensorflow-2.11.0\n"
     ]
    }
   ],
   "source": [
    "# 버전 이슈로 다운 그레이드\n",
    "# uninstall tensorflow 2.12\n",
    "#!pip uninstall tensorflow --yes"
   ]
  },
  {
   "cell_type": "code",
   "execution_count": 22,
   "id": "3bc6cc58-8378-4699-af71-cc94ac7f6cce",
   "metadata": {},
   "outputs": [],
   "source": [
    "def run_model(model, X_train, X_test, Y_train, Y_test):\n",
    "    # TODO: 모델 학습을 위한 optimizer, loss 함수, 평가 지표를 설정하세요.\n",
    "    optimizer = Adam(learning_rate=0.001)\n",
    "    model.compile(optimizer=optimizer, loss=\"mse\", metrics=[\"accuracy\"])\n",
    "    \n",
    "    print('학습 시작')\n",
    "    \n",
    "    # TODO: 모델 학습을 위한 hyperparameter를 설정하세요.\n",
    "    hist = model.fit(X_train, Y_train, epochs=5, batch_size=100, validation_split=0.2, shuffle=True, verbose=2)\n",
    "    \n",
    "    test_loss, test_acc = model.evaluate(X_test, Y_test, verbose=0)\n",
    "    print()\n",
    "    print(\"테스트 loss: {:.5f}, 테스트 정확도: {:.3f}%\".format(test_loss, test_acc * 100))\n",
    "    \n",
    "    return optimizer, hist"
   ]
  },
  {
   "cell_type": "code",
   "execution_count": 25,
   "id": "60466c29-be3f-4711-a0ad-f4f0e930aec1",
   "metadata": {},
   "outputs": [
    {
     "name": "stdout",
     "output_type": "stream",
     "text": [
      "model 확인:  <keras.engine.sequential.Sequential object at 0x7fb28c68ca90>\n",
      "trainx, test_x 확인:  4000 1000\n",
      "학습 시작\n",
      "Epoch 1/5\n",
      "32/32 - 6s - loss: 0.4526 - accuracy: 0.5478 - val_loss: 0.4690 - val_accuracy: 0.5312 - 6s/epoch - 198ms/step\n",
      "Epoch 2/5\n",
      "32/32 - 3s - loss: 0.4524 - accuracy: 0.5478 - val_loss: 0.4689 - val_accuracy: 0.5312 - 3s/epoch - 101ms/step\n",
      "Epoch 3/5\n",
      "32/32 - 2s - loss: 0.4523 - accuracy: 0.5478 - val_loss: 0.4689 - val_accuracy: 0.5312 - 2s/epoch - 51ms/step\n",
      "Epoch 4/5\n",
      "32/32 - 2s - loss: 0.4523 - accuracy: 0.5478 - val_loss: 0.4688 - val_accuracy: 0.5312 - 2s/epoch - 48ms/step\n",
      "Epoch 5/5\n",
      "32/32 - 2s - loss: 0.4523 - accuracy: 0.5478 - val_loss: 0.4688 - val_accuracy: 0.5312 - 2s/epoch - 54ms/step\n",
      "\n",
      "테스트 loss: 0.45307, 테스트 정확도: 54.700%\n"
     ]
    },
    {
     "data": {
      "text/plain": [
       "(<keras.optimizers.optimizer_experimental.adam.Adam at 0x7fb2a0091750>,\n",
       " <keras.callbacks.History at 0x7fb3141d3ac0>)"
      ]
     },
     "execution_count": 25,
     "metadata": {},
     "output_type": "execute_result"
    }
   ],
   "source": [
    "print('model 확인: ', model)\n",
    "print('trainx, test_x 확인: ', len(X_train), len(X_test))\n",
    "run_model(model, X_train, X_test, Y_train, Y_test)"
   ]
  }
 ],
 "metadata": {
  "kernelspec": {
   "display_name": "Python 3 (ipykernel)",
   "language": "python",
   "name": "python3"
  },
  "language_info": {
   "codemirror_mode": {
    "name": "ipython",
    "version": 3
   },
   "file_extension": ".py",
   "mimetype": "text/x-python",
   "name": "python",
   "nbconvert_exporter": "python",
   "pygments_lexer": "ipython3",
   "version": "3.10.10"
  }
 },
 "nbformat": 4,
 "nbformat_minor": 5
}
