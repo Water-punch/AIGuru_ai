{
 "cells": [
  {
   "cell_type": "code",
   "execution_count": 67,
   "id": "1a51409b-66be-48cf-8a38-29d702eb30aa",
   "metadata": {},
   "outputs": [],
   "source": [
    "import numpy as np\n",
    "import pandas as pd"
   ]
  },
  {
   "cell_type": "markdown",
   "id": "263e61b8-ee89-48d4-84d4-68883377b40d",
   "metadata": {},
   "source": [
    "train_test_split() : 학습/테스트 데이터 세트 분리"
   ]
  },
  {
   "cell_type": "code",
   "execution_count": 2,
   "id": "9bc6d298-d151-4627-8602-72f259748f9f",
   "metadata": {},
   "outputs": [
    {
     "name": "stderr",
     "output_type": "stream",
     "text": [
      "2024-01-17 12:57:38.063256: I tensorflow/core/platform/cpu_feature_guard.cc:193] This TensorFlow binary is optimized with oneAPI Deep Neural Network Library (oneDNN) to use the following CPU instructions in performance-critical operations:  AVX2 AVX512F AVX512_VNNI FMA\n",
      "To enable them in other operations, rebuild TensorFlow with the appropriate compiler flags.\n",
      "2024-01-17 12:57:38.184556: I tensorflow/core/util/port.cc:104] oneDNN custom operations are on. You may see slightly different numerical results due to floating-point round-off errors from different computation orders. To turn them off, set the environment variable `TF_ENABLE_ONEDNN_OPTS=0`.\n",
      "2024-01-17 12:57:39.356585: W tensorflow/compiler/xla/stream_executor/platform/default/dso_loader.cc:64] Could not load dynamic library 'libnvinfer.so.7'; dlerror: libnvinfer.so.7: cannot open shared object file: No such file or directory; LD_LIBRARY_PATH: /usr/local/nvidia/lib:/usr/local/nvidia/lib64\n",
      "2024-01-17 12:57:39.356662: W tensorflow/compiler/xla/stream_executor/platform/default/dso_loader.cc:64] Could not load dynamic library 'libnvinfer_plugin.so.7'; dlerror: libnvinfer_plugin.so.7: cannot open shared object file: No such file or directory; LD_LIBRARY_PATH: /usr/local/nvidia/lib:/usr/local/nvidia/lib64\n",
      "2024-01-17 12:57:39.356669: W tensorflow/compiler/tf2tensorrt/utils/py_utils.cc:38] TF-TRT Warning: Cannot dlopen some TensorRT libraries. If you would like to use Nvidia GPU with TensorRT, please make sure the missing libraries mentioned above are installed properly.\n",
      "/home/elicer/.local/lib/python3.10/site-packages/tqdm/auto.py:21: TqdmWarning: IProgress not found. Please update jupyter and ipywidgets. See https://ipywidgets.readthedocs.io/en/stable/user_install.html\n",
      "  from .autonotebook import tqdm as notebook_tqdm\n"
     ]
    }
   ],
   "source": [
    "from sklearn.model_selection import train_test_split\n",
    "import tensorflow as tf\n",
    "from transformers import TFBertModel, BertTokenizer, TFBertForSequenceClassification"
   ]
  },
  {
   "cell_type": "code",
   "execution_count": 3,
   "id": "ec6a978c-47d4-4d51-80f0-886104574f8f",
   "metadata": {},
   "outputs": [],
   "source": [
    "# 경고를 무시함\n",
    "import warnings\n",
    "warnings.filterwarnings('ignore')"
   ]
  },
  {
   "cell_type": "code",
   "execution_count": 13,
   "id": "4f56f4ef-af83-4145-bd69-3e76763be581",
   "metadata": {},
   "outputs": [
    {
     "data": {
      "text/html": [
       "<div>\n",
       "<style scoped>\n",
       "    .dataframe tbody tr th:only-of-type {\n",
       "        vertical-align: middle;\n",
       "    }\n",
       "\n",
       "    .dataframe tbody tr th {\n",
       "        vertical-align: top;\n",
       "    }\n",
       "\n",
       "    .dataframe thead th {\n",
       "        text-align: right;\n",
       "    }\n",
       "</style>\n",
       "<table border=\"1\" class=\"dataframe\">\n",
       "  <thead>\n",
       "    <tr style=\"text-align: right;\">\n",
       "      <th></th>\n",
       "      <th>Q</th>\n",
       "      <th>A</th>\n",
       "      <th>label</th>\n",
       "    </tr>\n",
       "  </thead>\n",
       "  <tbody>\n",
       "    <tr>\n",
       "      <th>0</th>\n",
       "      <td>12시 땡!</td>\n",
       "      <td>하루가 또 가네요.</td>\n",
       "      <td>0</td>\n",
       "    </tr>\n",
       "    <tr>\n",
       "      <th>1</th>\n",
       "      <td>1지망 학교 떨어졌어</td>\n",
       "      <td>위로해 드립니다.</td>\n",
       "      <td>0</td>\n",
       "    </tr>\n",
       "    <tr>\n",
       "      <th>2</th>\n",
       "      <td>3박4일 놀러가고 싶다</td>\n",
       "      <td>여행은 언제나 좋죠.</td>\n",
       "      <td>0</td>\n",
       "    </tr>\n",
       "    <tr>\n",
       "      <th>3</th>\n",
       "      <td>3박4일 정도 놀러가고 싶다</td>\n",
       "      <td>여행은 언제나 좋죠.</td>\n",
       "      <td>0</td>\n",
       "    </tr>\n",
       "    <tr>\n",
       "      <th>4</th>\n",
       "      <td>PPL 심하네</td>\n",
       "      <td>눈살이 찌푸려지죠.</td>\n",
       "      <td>0</td>\n",
       "    </tr>\n",
       "  </tbody>\n",
       "</table>\n",
       "</div>"
      ],
      "text/plain": [
       "                 Q            A  label\n",
       "0           12시 땡!   하루가 또 가네요.      0\n",
       "1      1지망 학교 떨어졌어    위로해 드립니다.      0\n",
       "2     3박4일 놀러가고 싶다  여행은 언제나 좋죠.      0\n",
       "3  3박4일 정도 놀러가고 싶다  여행은 언제나 좋죠.      0\n",
       "4          PPL 심하네   눈살이 찌푸려지죠.      0"
      ]
     },
     "execution_count": 13,
     "metadata": {},
     "output_type": "execute_result"
    }
   ],
   "source": [
    "# 데이터 읽어오기\n",
    "df = pd.read_csv(\"https://raw.githubusercontent.com/songys/Chatbot_data/master/ChatbotData.csv\", delimiter=',')\n",
    " \n",
    "df.head()"
   ]
  },
  {
   "cell_type": "code",
   "execution_count": 15,
   "id": "07d6b7c4-6d2f-423f-907f-43cfb71fde5c",
   "metadata": {},
   "outputs": [],
   "source": [
    "df_need = df[df.label != 0]"
   ]
  },
  {
   "cell_type": "code",
   "execution_count": 29,
   "id": "088ad66d-1c83-4da2-91c0-a4773370b2ce",
   "metadata": {},
   "outputs": [
    {
     "data": {
      "text/html": [
       "<div>\n",
       "<style scoped>\n",
       "    .dataframe tbody tr th:only-of-type {\n",
       "        vertical-align: middle;\n",
       "    }\n",
       "\n",
       "    .dataframe tbody tr th {\n",
       "        vertical-align: top;\n",
       "    }\n",
       "\n",
       "    .dataframe thead th {\n",
       "        text-align: right;\n",
       "    }\n",
       "</style>\n",
       "<table border=\"1\" class=\"dataframe\">\n",
       "  <thead>\n",
       "    <tr style=\"text-align: right;\">\n",
       "      <th></th>\n",
       "      <th>Q</th>\n",
       "      <th>A</th>\n",
       "      <th>label</th>\n",
       "    </tr>\n",
       "  </thead>\n",
       "  <tbody>\n",
       "    <tr>\n",
       "      <th>0</th>\n",
       "      <td>사랑 글로 배워요</td>\n",
       "      <td>글로라도 배우세요.</td>\n",
       "      <td>2</td>\n",
       "    </tr>\n",
       "    <tr>\n",
       "      <th>1</th>\n",
       "      <td>좋아하는 오빠가 최근에 연락이 계속 늦거나 이어지지 않는데 그냥 연락 끊어야 할까.</td>\n",
       "      <td>그러는 것이 맘 편할지도 몰라요.</td>\n",
       "      <td>2</td>\n",
       "    </tr>\n",
       "    <tr>\n",
       "      <th>2</th>\n",
       "      <td>여사친인데 좋아하는 듯.</td>\n",
       "      <td>친구와 썸의 중간인 거 같아요.</td>\n",
       "      <td>2</td>\n",
       "    </tr>\n",
       "    <tr>\n",
       "      <th>3</th>\n",
       "      <td>여자인데 먼저 대쉬해도 됨?</td>\n",
       "      <td>여자가 먼저 대쉬하면 더 매력있죠.</td>\n",
       "      <td>2</td>\n",
       "    </tr>\n",
       "    <tr>\n",
       "      <th>4</th>\n",
       "      <td>잘가</td>\n",
       "      <td>안녕.</td>\n",
       "      <td>1</td>\n",
       "    </tr>\n",
       "  </tbody>\n",
       "</table>\n",
       "</div>"
      ],
      "text/plain": [
       "                                                Q                    A  label\n",
       "0                                       사랑 글로 배워요           글로라도 배우세요.      2\n",
       "1  좋아하는 오빠가 최근에 연락이 계속 늦거나 이어지지 않는데 그냥 연락 끊어야 할까.   그러는 것이 맘 편할지도 몰라요.      2\n",
       "2                                   여사친인데 좋아하는 듯.    친구와 썸의 중간인 거 같아요.      2\n",
       "3                                 여자인데 먼저 대쉬해도 됨?  여자가 먼저 대쉬하면 더 매력있죠.      2\n",
       "4                                              잘가                  안녕.      1"
      ]
     },
     "execution_count": 29,
     "metadata": {},
     "output_type": "execute_result"
    }
   ],
   "source": [
    "df_shuffled = df_need.sample(frac=1).reset_index(drop=True)  # 행 섞기\n",
    "df_shuffled.head() # 확인용 출력"
   ]
  },
  {
   "cell_type": "code",
   "execution_count": 17,
   "id": "95960f0f-8f72-4345-a81d-f5f7d22a826f",
   "metadata": {},
   "outputs": [],
   "source": [
    "df_shuffled = df_shuffled.loc[:, ['Q', 'label']]"
   ]
  },
  {
   "cell_type": "code",
   "execution_count": 27,
   "id": "0930779e-734c-4a17-b37f-1b804e1c7794",
   "metadata": {},
   "outputs": [],
   "source": [
    "df_shuffled['label'] = df_shuffled['label'] + 1"
   ]
  },
  {
   "cell_type": "code",
   "execution_count": 36,
   "id": "63431890-e928-4114-81c8-6133944e13a8",
   "metadata": {},
   "outputs": [],
   "source": [
    "df_shuffled.loc[:, 'label'] = df_shuffled.loc[:, 'label'] - 1"
   ]
  },
  {
   "cell_type": "code",
   "execution_count": 38,
   "id": "e7cd17b9-7ea8-437d-ad33-7603f0ef075d",
   "metadata": {},
   "outputs": [
    {
     "data": {
      "text/plain": [
       "1"
      ]
     },
     "execution_count": 38,
     "metadata": {},
     "output_type": "execute_result"
    }
   ],
   "source": [
    "max(list(df_shuffled['label']))"
   ]
  },
  {
   "cell_type": "code",
   "execution_count": 39,
   "id": "a690aeb0-262f-488a-814a-841fac8a41d8",
   "metadata": {},
   "outputs": [
    {
     "data": {
      "text/html": [
       "<div>\n",
       "<style scoped>\n",
       "    .dataframe tbody tr th:only-of-type {\n",
       "        vertical-align: middle;\n",
       "    }\n",
       "\n",
       "    .dataframe tbody tr th {\n",
       "        vertical-align: top;\n",
       "    }\n",
       "\n",
       "    .dataframe thead th {\n",
       "        text-align: right;\n",
       "    }\n",
       "</style>\n",
       "<table border=\"1\" class=\"dataframe\">\n",
       "  <thead>\n",
       "    <tr style=\"text-align: right;\">\n",
       "      <th></th>\n",
       "      <th>Q</th>\n",
       "      <th>A</th>\n",
       "      <th>label</th>\n",
       "    </tr>\n",
       "  </thead>\n",
       "  <tbody>\n",
       "    <tr>\n",
       "      <th>0</th>\n",
       "      <td>사랑 글로 배워요</td>\n",
       "      <td>글로라도 배우세요.</td>\n",
       "      <td>1</td>\n",
       "    </tr>\n",
       "    <tr>\n",
       "      <th>1</th>\n",
       "      <td>좋아하는 오빠가 최근에 연락이 계속 늦거나 이어지지 않는데 그냥 연락 끊어야 할까.</td>\n",
       "      <td>그러는 것이 맘 편할지도 몰라요.</td>\n",
       "      <td>1</td>\n",
       "    </tr>\n",
       "    <tr>\n",
       "      <th>2</th>\n",
       "      <td>여사친인데 좋아하는 듯.</td>\n",
       "      <td>친구와 썸의 중간인 거 같아요.</td>\n",
       "      <td>1</td>\n",
       "    </tr>\n",
       "    <tr>\n",
       "      <th>3</th>\n",
       "      <td>여자인데 먼저 대쉬해도 됨?</td>\n",
       "      <td>여자가 먼저 대쉬하면 더 매력있죠.</td>\n",
       "      <td>1</td>\n",
       "    </tr>\n",
       "    <tr>\n",
       "      <th>4</th>\n",
       "      <td>잘가</td>\n",
       "      <td>안녕.</td>\n",
       "      <td>0</td>\n",
       "    </tr>\n",
       "  </tbody>\n",
       "</table>\n",
       "</div>"
      ],
      "text/plain": [
       "                                                Q                    A  label\n",
       "0                                       사랑 글로 배워요           글로라도 배우세요.      1\n",
       "1  좋아하는 오빠가 최근에 연락이 계속 늦거나 이어지지 않는데 그냥 연락 끊어야 할까.   그러는 것이 맘 편할지도 몰라요.      1\n",
       "2                                   여사친인데 좋아하는 듯.    친구와 썸의 중간인 거 같아요.      1\n",
       "3                                 여자인데 먼저 대쉬해도 됨?  여자가 먼저 대쉬하면 더 매력있죠.      1\n",
       "4                                              잘가                  안녕.      0"
      ]
     },
     "execution_count": 39,
     "metadata": {},
     "output_type": "execute_result"
    }
   ],
   "source": [
    "df_shuffled.head()"
   ]
  },
  {
   "cell_type": "code",
   "execution_count": 41,
   "id": "77c9c692-e5cc-4ef9-afa9-aac630b965d5",
   "metadata": {},
   "outputs": [
    {
     "data": {
      "text/plain": [
       "array([1, 1, 1, ..., 1, 0, 1])"
      ]
     },
     "execution_count": 41,
     "metadata": {},
     "output_type": "execute_result"
    }
   ],
   "source": [
    "df_shuffled['label'].values"
   ]
  },
  {
   "cell_type": "code",
   "execution_count": 42,
   "id": "5e45778e-f34d-4cfd-a3a1-d70b186a52ac",
   "metadata": {},
   "outputs": [],
   "source": [
    "df = df_shuffled #최종 확인 후 덮어쓰기"
   ]
  },
  {
   "cell_type": "code",
   "execution_count": 48,
   "id": "bc9b0c06-7b73-4151-8240-d6f439a6a76d",
   "metadata": {},
   "outputs": [
    {
     "data": {
      "text/html": [
       "<div>\n",
       "<style scoped>\n",
       "    .dataframe tbody tr th:only-of-type {\n",
       "        vertical-align: middle;\n",
       "    }\n",
       "\n",
       "    .dataframe tbody tr th {\n",
       "        vertical-align: top;\n",
       "    }\n",
       "\n",
       "    .dataframe thead th {\n",
       "        text-align: right;\n",
       "    }\n",
       "</style>\n",
       "<table border=\"1\" class=\"dataframe\">\n",
       "  <thead>\n",
       "    <tr style=\"text-align: right;\">\n",
       "      <th></th>\n",
       "      <th>Q</th>\n",
       "      <th>label</th>\n",
       "    </tr>\n",
       "  </thead>\n",
       "  <tbody>\n",
       "    <tr>\n",
       "      <th>0</th>\n",
       "      <td>사랑 글로 배워요</td>\n",
       "      <td>1</td>\n",
       "    </tr>\n",
       "    <tr>\n",
       "      <th>1</th>\n",
       "      <td>좋아하는 오빠가 최근에 연락이 계속 늦거나 이어지지 않는데 그냥 연락 끊어야 할까.</td>\n",
       "      <td>1</td>\n",
       "    </tr>\n",
       "    <tr>\n",
       "      <th>2</th>\n",
       "      <td>여사친인데 좋아하는 듯.</td>\n",
       "      <td>1</td>\n",
       "    </tr>\n",
       "    <tr>\n",
       "      <th>3</th>\n",
       "      <td>여자인데 먼저 대쉬해도 됨?</td>\n",
       "      <td>1</td>\n",
       "    </tr>\n",
       "    <tr>\n",
       "      <th>4</th>\n",
       "      <td>잘가</td>\n",
       "      <td>0</td>\n",
       "    </tr>\n",
       "  </tbody>\n",
       "</table>\n",
       "</div>"
      ],
      "text/plain": [
       "                                                Q  label\n",
       "0                                       사랑 글로 배워요      1\n",
       "1  좋아하는 오빠가 최근에 연락이 계속 늦거나 이어지지 않는데 그냥 연락 끊어야 할까.      1\n",
       "2                                   여사친인데 좋아하는 듯.      1\n",
       "3                                 여자인데 먼저 대쉬해도 됨?      1\n",
       "4                                              잘가      0"
      ]
     },
     "execution_count": 48,
     "metadata": {},
     "output_type": "execute_result"
    }
   ],
   "source": [
    "df.head()"
   ]
  },
  {
   "cell_type": "code",
   "execution_count": 45,
   "id": "4513b36b-c51b-414e-8ee0-2a81f295e6b0",
   "metadata": {},
   "outputs": [
    {
     "data": {
      "text/plain": [
       "0       1\n",
       "1       1\n",
       "2       1\n",
       "3       1\n",
       "4       0\n",
       "       ..\n",
       "6528    1\n",
       "6529    0\n",
       "6530    1\n",
       "6531    0\n",
       "6532    1\n",
       "Name: label, Length: 6533, dtype: int64"
      ]
     },
     "execution_count": 45,
     "metadata": {},
     "output_type": "execute_result"
    }
   ],
   "source": [
    "df['label']"
   ]
  },
  {
   "cell_type": "code",
   "execution_count": 46,
   "id": "484528ea-6edc-4213-bb42-d32dad5b2106",
   "metadata": {},
   "outputs": [],
   "source": [
    "labels = df['label'].values"
   ]
  },
  {
   "cell_type": "code",
   "execution_count": 50,
   "id": "6b74fab3-d394-4e61-b81a-458e42ceb3e1",
   "metadata": {},
   "outputs": [],
   "source": [
    "from sklearn.model_selection import train_test_split"
   ]
  },
  {
   "cell_type": "code",
   "execution_count": 53,
   "id": "d72e9984-6856-4ab5-b9a9-0b672f822c8a",
   "metadata": {},
   "outputs": [],
   "source": [
    "X_train, X_test, y_train, y_test = train_test_split(df['Q'], labels, random_state=42, test_size=0.2)"
   ]
  },
  {
   "cell_type": "markdown",
   "id": "3423610d-18cb-4da3-ad5a-9330608515ea",
   "metadata": {},
   "source": [
    "### 토큰화"
   ]
  },
  {
   "cell_type": "code",
   "execution_count": 57,
   "id": "bcb1251a-b9e6-4ada-9f3b-ecf12ab0fb32",
   "metadata": {},
   "outputs": [],
   "source": [
    "# 토크나이저 불러오기\n",
    "tokenizer = BertTokenizer.from_pretrained('bert-base-multilingual-cased')"
   ]
  },
  {
   "cell_type": "code",
   "execution_count": 59,
   "id": "f9740241-1047-4833-bba9-5ba91d104882",
   "metadata": {},
   "outputs": [],
   "source": [
    "def encode(data, tokenizer):\n",
    "    input_ids = []\n",
    "    attention_masks = []\n",
    "    token_type_ids = []\n",
    " \n",
    "    for text in data:\n",
    "        tokenized_text = tokenizer.encode_plus(text,\n",
    "                                            max_length=50,\n",
    "                                            add_special_tokens = True,\n",
    "                                            pad_to_max_length=True,\n",
    "                                            return_attention_mask=True,\n",
    "                                              truncation=True)\n",
    "        \n",
    "        input_ids.append(tokenized_text['input_ids'])\n",
    "        attention_masks.append(tokenized_text['attention_mask'])\n",
    "        token_type_ids.append(tokenized_text['token_type_ids'])\n",
    "    \n",
    "    return input_ids, attention_masks, token_type_ids"
   ]
  },
  {
   "cell_type": "code",
   "execution_count": 60,
   "id": "ce578dea-f3fc-4617-b1af-cd353c07dc34",
   "metadata": {},
   "outputs": [],
   "source": [
    "#학습데이터 토큰화\n",
    "train_input_ids, train_attention_masks, train_token_type_ids = encode(X_train, tokenizer)\n",
    " \n",
    "#테스트데이터 토큰화\n",
    "test_input_ids, test_attention_masks, test_token_type_ids = encode(X_test, tokenizer)"
   ]
  },
  {
   "cell_type": "markdown",
   "id": "e7674f98-09f4-47d7-b3c8-948eb06367de",
   "metadata": {},
   "source": [
    "### 데이터 형태 변경\n",
    "\n",
    "Bert에 입력하기 위해 데이터 형태를 딕셔너리로 변경"
   ]
  },
  {
   "cell_type": "code",
   "execution_count": 62,
   "id": "980919a7-52ca-4c34-9db4-393bdc7d6980",
   "metadata": {},
   "outputs": [],
   "source": [
    "#딕셔너리 형태로 변환해서 출력 \n",
    "def map_example_to_dict(input_ids, attention_masks, token_type_ids, label):\n",
    "    return {\n",
    "      \"input_ids\": input_ids,\n",
    "      \"token_type_ids\": token_type_ids,\n",
    "      \"attention_mask\": attention_masks,\n",
    "      }, label\n",
    "      \n",
    " #데이터를 BERT에 넣을 수 있는 형태로 변경 \n",
    "def data_encode(input_ids_list, attention_mask_list, token_type_ids_list, label_list):\n",
    "    return tf.data.Dataset.from_tensor_slices((input_ids_list, attention_mask_list, token_type_ids_list, label_list)).map(map_example_to_dict)"
   ]
  },
  {
   "cell_type": "code",
   "execution_count": 64,
   "id": "68ca9cc9-bf48-4be7-8358-748cd4da84a6",
   "metadata": {},
   "outputs": [],
   "source": [
    "BATCH_SIZE = 32\n",
    " \n",
    "#학습 데이터\n",
    "train_data_encoded = data_encode(train_input_ids, train_attention_masks, train_token_type_ids,y_train).shuffle(10000).batch(BATCH_SIZE)\n",
    " \n",
    "#평가 데이터\n",
    "test_data_encoded = data_encode(test_input_ids, test_attention_masks, test_token_type_ids, y_test).batch(BATCH_SIZE)"
   ]
  },
  {
   "cell_type": "markdown",
   "id": "b0de2f99-8eb3-45fc-8ad6-176f59508316",
   "metadata": {},
   "source": [
    "### 모델 학습"
   ]
  },
  {
   "cell_type": "code",
   "execution_count": 71,
   "id": "2b024292-a895-45ba-a03a-68246d554393",
   "metadata": {},
   "outputs": [
    {
     "name": "stderr",
     "output_type": "stream",
     "text": [
      "All PyTorch model weights were used when initializing TFBertForSequenceClassification.\n",
      "\n",
      "Some weights or buffers of the TF 2.0 model TFBertForSequenceClassification were not initialized from the PyTorch model and are newly initialized: ['classifier.weight', 'classifier.bias']\n",
      "You should probably TRAIN this model on a down-stream task to be able to use it for predictions and inference.\n"
     ]
    }
   ],
   "source": [
    "model = TFBertForSequenceClassification.from_pretrained(\n",
    "    \"bert-base-multilingual-cased\", \n",
    "    num_labels = 2,\n",
    ")"
   ]
  },
  {
   "cell_type": "code",
   "execution_count": 72,
   "id": "59771526-0385-4c2e-b2c2-9fb68d3859fc",
   "metadata": {},
   "outputs": [
    {
     "data": {
      "text/plain": [
       "<transformers.models.bert.modeling_tf_bert.TFBertForSequenceClassification at 0x7f24945d14e0>"
      ]
     },
     "execution_count": 72,
     "metadata": {},
     "output_type": "execute_result"
    }
   ],
   "source": [
    "model"
   ]
  },
  {
   "cell_type": "code",
   "execution_count": 73,
   "id": "2bbdefdf-e61e-4240-81b3-cd970fe99749",
   "metadata": {},
   "outputs": [
    {
     "name": "stdout",
     "output_type": "stream",
     "text": [
      "Epoch 1/10\n",
      "164/164 [==============================] - 95s 314ms/step - loss: 0.3595 - accuracy: 0.8467 - val_loss: 0.2254 - val_accuracy: 0.9112\n",
      "Epoch 2/10\n",
      "164/164 [==============================] - 45s 271ms/step - loss: 0.2009 - accuracy: 0.9252 - val_loss: 0.2224 - val_accuracy: 0.9158\n",
      "Epoch 3/10\n",
      "164/164 [==============================] - 44s 269ms/step - loss: 0.1484 - accuracy: 0.9493 - val_loss: 0.2260 - val_accuracy: 0.9197\n",
      "Epoch 4/10\n",
      "164/164 [==============================] - 44s 267ms/step - loss: 0.1074 - accuracy: 0.9625 - val_loss: 0.2323 - val_accuracy: 0.9197\n",
      "Epoch 5/10\n",
      "164/164 [==============================] - 44s 268ms/step - loss: 0.0843 - accuracy: 0.9717 - val_loss: 0.2519 - val_accuracy: 0.9166\n",
      "Epoch 6/10\n",
      "164/164 [==============================] - 44s 266ms/step - loss: 0.0693 - accuracy: 0.9772 - val_loss: 0.2313 - val_accuracy: 0.9258\n",
      "Epoch 7/10\n",
      "164/164 [==============================] - 44s 266ms/step - loss: 0.0574 - accuracy: 0.9822 - val_loss: 0.2700 - val_accuracy: 0.9174\n",
      "Epoch 8/10\n",
      "164/164 [==============================] - 44s 267ms/step - loss: 0.0435 - accuracy: 0.9855 - val_loss: 0.2676 - val_accuracy: 0.9220\n",
      "Epoch 9/10\n",
      "164/164 [==============================] - 44s 265ms/step - loss: 0.0380 - accuracy: 0.9864 - val_loss: 0.3197 - val_accuracy: 0.9151\n",
      "Epoch 10/10\n",
      "164/164 [==============================] - 44s 267ms/step - loss: 0.0380 - accuracy: 0.9883 - val_loss: 0.3345 - val_accuracy: 0.9174\n"
     ]
    }
   ],
   "source": [
    "optimizer = tf.keras.optimizers.Adam(1e-5)\n",
    "loss = tf.keras.losses.SparseCategoricalCrossentropy(from_logits=True)\n",
    "metric = tf.keras.metrics.SparseCategoricalAccuracy('accuracy')\n",
    "model.compile(optimizer=optimizer, loss=loss, metrics=[metric])\n",
    "NUM_EPOCHS = 10\n",
    "history = model.fit(train_data_encoded, epochs=NUM_EPOCHS, batch_size=BATCH_SIZE, validation_data=test_data_encoded)"
   ]
  },
  {
   "cell_type": "code",
   "execution_count": 74,
   "id": "971d7b5a-32de-4ab2-ac79-1c76683a9572",
   "metadata": {},
   "outputs": [
    {
     "data": {
      "image/png": "[encoded data removed]",
      "text/plain": [
       "<Figure size 640x480 with 1 Axes>"
      ]
     },
     "metadata": {},
     "output_type": "display_data"
    }
   ],
   "source": [
    "#loss 확인\n",
    " \n",
    "import matplotlib.pyplot as plt\n",
    "plt.plot(history.history['loss'])\n",
    "plt.plot(history.history['val_loss'])\n",
    "plt.xlabel('epoch')\n",
    "plt.ylabel('loss')\n",
    "plt.legend(['train','val'])\n",
    "plt.show()"
   ]
  },
  {
   "cell_type": "code",
   "execution_count": 76,
   "id": "1a2a88ba-9ab5-4224-9d5b-729d5451c3b3",
   "metadata": {},
   "outputs": [],
   "source": [
    "model.save_pretrained('guru.h5')"
   ]
  }
 ],
 "metadata": {
  "kernelspec": {
   "display_name": "Python 3 (ipykernel)",
   "language": "python",
   "name": "python3"
  },
  "language_info": {
   "codemirror_mode": {
    "name": "ipython",
    "version": 3
   },
   "file_extension": ".py",
   "mimetype": "text/x-python",
   "name": "python",
   "nbconvert_exporter": "python",
   "pygments_lexer": "ipython3",
   "version": "3.10.10"
  }
 },
 "nbformat": 4,
 "nbformat_minor": 5
}
