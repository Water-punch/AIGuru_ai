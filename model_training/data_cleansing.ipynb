{
 "cells": [
  {
   "cell_type": "code",
   "execution_count": null,
   "id": "04138d09-cad7-4619-9983-7eca3139c609",
   "metadata": {},
   "outputs": [],
   "source": [
    "# 데이터 전처리 파일"
   ]
  },
  {
   "cell_type": "code",
   "execution_count": 107,
   "id": "57e36891-1e53-41c6-95c6-6b705463e2b7",
   "metadata": {},
   "outputs": [],
   "source": [
    "import numpy as np\n",
    "import pandas as pd"
   ]
  },
  {
   "cell_type": "code",
   "execution_count": null,
   "id": "4f83b230-40c1-4fc9-bc5c-669a47eefa33",
   "metadata": {},
   "outputs": [],
   "source": [
    "!pip install transformers"
   ]
  },
  {
   "cell_type": "code",
   "execution_count": 2,
   "id": "e46e8bd7-53b3-4968-b2f7-7e607e333865",
   "metadata": {},
   "outputs": [],
   "source": [
    "df = pd.read_csv(\"https://raw.githubusercontent.com/songys/Chatbot_data/master/ChatbotData.csv\")"
   ]
  },
  {
   "cell_type": "code",
   "execution_count": 3,
   "id": "044aac6d-7d99-488d-99c4-7569f480a26d",
   "metadata": {},
   "outputs": [
    {
     "data": {
      "text/html": [
       "<div>\n",
       "<style scoped>\n",
       "    .dataframe tbody tr th:only-of-type {\n",
       "        vertical-align: middle;\n",
       "    }\n",
       "\n",
       "    .dataframe tbody tr th {\n",
       "        vertical-align: top;\n",
       "    }\n",
       "\n",
       "    .dataframe thead th {\n",
       "        text-align: right;\n",
       "    }\n",
       "</style>\n",
       "<table border=\"1\" class=\"dataframe\">\n",
       "  <thead>\n",
       "    <tr style=\"text-align: right;\">\n",
       "      <th></th>\n",
       "      <th>Q</th>\n",
       "      <th>A</th>\n",
       "      <th>label</th>\n",
       "    </tr>\n",
       "  </thead>\n",
       "  <tbody>\n",
       "    <tr>\n",
       "      <th>0</th>\n",
       "      <td>12시 땡!</td>\n",
       "      <td>하루가 또 가네요.</td>\n",
       "      <td>0</td>\n",
       "    </tr>\n",
       "    <tr>\n",
       "      <th>1</th>\n",
       "      <td>1지망 학교 떨어졌어</td>\n",
       "      <td>위로해 드립니다.</td>\n",
       "      <td>0</td>\n",
       "    </tr>\n",
       "    <tr>\n",
       "      <th>2</th>\n",
       "      <td>3박4일 놀러가고 싶다</td>\n",
       "      <td>여행은 언제나 좋죠.</td>\n",
       "      <td>0</td>\n",
       "    </tr>\n",
       "    <tr>\n",
       "      <th>3</th>\n",
       "      <td>3박4일 정도 놀러가고 싶다</td>\n",
       "      <td>여행은 언제나 좋죠.</td>\n",
       "      <td>0</td>\n",
       "    </tr>\n",
       "    <tr>\n",
       "      <th>4</th>\n",
       "      <td>PPL 심하네</td>\n",
       "      <td>눈살이 찌푸려지죠.</td>\n",
       "      <td>0</td>\n",
       "    </tr>\n",
       "  </tbody>\n",
       "</table>\n",
       "</div>"
      ],
      "text/plain": [
       "                 Q            A  label\n",
       "0           12시 땡!   하루가 또 가네요.      0\n",
       "1      1지망 학교 떨어졌어    위로해 드립니다.      0\n",
       "2     3박4일 놀러가고 싶다  여행은 언제나 좋죠.      0\n",
       "3  3박4일 정도 놀러가고 싶다  여행은 언제나 좋죠.      0\n",
       "4          PPL 심하네   눈살이 찌푸려지죠.      0"
      ]
     },
     "execution_count": 3,
     "metadata": {},
     "output_type": "execute_result"
    }
   ],
   "source": [
    "df.head()"
   ]
  },
  {
   "cell_type": "code",
   "execution_count": 9,
   "id": "e3f3ac9d-c217-45be-a532-6e75f2670e0e",
   "metadata": {},
   "outputs": [
    {
     "name": "stdout",
     "output_type": "stream",
     "text": [
      "<class 'pandas.core.frame.DataFrame'>\n",
      "RangeIndex: 11823 entries, 0 to 11822\n",
      "Data columns (total 3 columns):\n",
      " #   Column  Non-Null Count  Dtype \n",
      "---  ------  --------------  ----- \n",
      " 0   Q       11823 non-null  object\n",
      " 1   A       11823 non-null  object\n",
      " 2   label   11823 non-null  int64 \n",
      "dtypes: int64(1), object(2)\n",
      "memory usage: 277.2+ KB\n"
     ]
    }
   ],
   "source": [
    "# 데이터 프레임 정보 요약\n",
    "df.info()"
   ]
  },
  {
   "cell_type": "code",
   "execution_count": 11,
   "id": "5b668b19-ac92-4ca3-a302-e6c2f997b5b3",
   "metadata": {},
   "outputs": [
    {
     "data": {
      "text/plain": [
       "Q        0\n",
       "A        0\n",
       "label    0\n",
       "dtype: int64"
      ]
     },
     "execution_count": 11,
     "metadata": {},
     "output_type": "execute_result"
    }
   ],
   "source": [
    "# 결측값 정보를 출력합니다.\n",
    "df.isnull().sum()"
   ]
  },
  {
   "cell_type": "code",
   "execution_count": 23,
   "id": "42ff7474-26e7-4a35-ab41-3373a1a89609",
   "metadata": {},
   "outputs": [],
   "source": [
    "df_need = df[df.label != 0] # label이 0인 값 제거"
   ]
  },
  {
   "cell_type": "code",
   "execution_count": 24,
   "id": "fc4b911a-22a5-4e5b-a0e7-b2d3f0706e9a",
   "metadata": {},
   "outputs": [
    {
     "data": {
      "text/html": [
       "<div>\n",
       "<style scoped>\n",
       "    .dataframe tbody tr th:only-of-type {\n",
       "        vertical-align: middle;\n",
       "    }\n",
       "\n",
       "    .dataframe tbody tr th {\n",
       "        vertical-align: top;\n",
       "    }\n",
       "\n",
       "    .dataframe thead th {\n",
       "        text-align: right;\n",
       "    }\n",
       "</style>\n",
       "<table border=\"1\" class=\"dataframe\">\n",
       "  <thead>\n",
       "    <tr style=\"text-align: right;\">\n",
       "      <th></th>\n",
       "      <th>Q</th>\n",
       "      <th>A</th>\n",
       "      <th>label</th>\n",
       "    </tr>\n",
       "  </thead>\n",
       "  <tbody>\n",
       "    <tr>\n",
       "      <th>5290</th>\n",
       "      <td>1000일 만난 여자친구와 이별</td>\n",
       "      <td>더 오래 만날 사람 만날 거예요.</td>\n",
       "      <td>1</td>\n",
       "    </tr>\n",
       "    <tr>\n",
       "      <th>5291</th>\n",
       "      <td>10년 연애. 헤어졌습니다.</td>\n",
       "      <td>더 공허함이 크시겠네요.</td>\n",
       "      <td>1</td>\n",
       "    </tr>\n",
       "    <tr>\n",
       "      <th>5292</th>\n",
       "      <td>10년 연애사 되돌아보니 다 부질없네</td>\n",
       "      <td>더 좋은 사람 만나실 거예요.</td>\n",
       "      <td>1</td>\n",
       "    </tr>\n",
       "    <tr>\n",
       "      <th>5293</th>\n",
       "      <td>10년 연예의끝</td>\n",
       "      <td>더 마음이 허하겠어요.</td>\n",
       "      <td>1</td>\n",
       "    </tr>\n",
       "    <tr>\n",
       "      <th>5294</th>\n",
       "      <td>10년만나다 헤어지네</td>\n",
       "      <td>충분히 슬퍼하고 충분히 아파하다가 이겨내세요.</td>\n",
       "      <td>1</td>\n",
       "    </tr>\n",
       "    <tr>\n",
       "      <th>...</th>\n",
       "      <td>...</td>\n",
       "      <td>...</td>\n",
       "      <td>...</td>\n",
       "    </tr>\n",
       "    <tr>\n",
       "      <th>11818</th>\n",
       "      <td>훔쳐보는 것도 눈치 보임.</td>\n",
       "      <td>티가 나니까 눈치가 보이는 거죠!</td>\n",
       "      <td>2</td>\n",
       "    </tr>\n",
       "    <tr>\n",
       "      <th>11819</th>\n",
       "      <td>훔쳐보는 것도 눈치 보임.</td>\n",
       "      <td>훔쳐보는 거 티나나봐요.</td>\n",
       "      <td>2</td>\n",
       "    </tr>\n",
       "    <tr>\n",
       "      <th>11820</th>\n",
       "      <td>흑기사 해주는 짝남.</td>\n",
       "      <td>설렜겠어요.</td>\n",
       "      <td>2</td>\n",
       "    </tr>\n",
       "    <tr>\n",
       "      <th>11821</th>\n",
       "      <td>힘든 연애 좋은 연애라는게 무슨 차이일까?</td>\n",
       "      <td>잘 헤어질 수 있는 사이 여부인 거 같아요.</td>\n",
       "      <td>2</td>\n",
       "    </tr>\n",
       "    <tr>\n",
       "      <th>11822</th>\n",
       "      <td>힘들어서 결혼할까봐</td>\n",
       "      <td>도피성 결혼은 하지 않길 바라요.</td>\n",
       "      <td>2</td>\n",
       "    </tr>\n",
       "  </tbody>\n",
       "</table>\n",
       "<p>6533 rows × 3 columns</p>\n",
       "</div>"
      ],
      "text/plain": [
       "                             Q                          A  label\n",
       "5290         1000일 만난 여자친구와 이별         더 오래 만날 사람 만날 거예요.      1\n",
       "5291           10년 연애. 헤어졌습니다.              더 공허함이 크시겠네요.      1\n",
       "5292      10년 연애사 되돌아보니 다 부질없네           더 좋은 사람 만나실 거예요.      1\n",
       "5293                  10년 연예의끝               더 마음이 허하겠어요.      1\n",
       "5294               10년만나다 헤어지네  충분히 슬퍼하고 충분히 아파하다가 이겨내세요.      1\n",
       "...                        ...                        ...    ...\n",
       "11818           훔쳐보는 것도 눈치 보임.         티가 나니까 눈치가 보이는 거죠!      2\n",
       "11819           훔쳐보는 것도 눈치 보임.              훔쳐보는 거 티나나봐요.      2\n",
       "11820              흑기사 해주는 짝남.                     설렜겠어요.      2\n",
       "11821  힘든 연애 좋은 연애라는게 무슨 차이일까?   잘 헤어질 수 있는 사이 여부인 거 같아요.      2\n",
       "11822               힘들어서 결혼할까봐         도피성 결혼은 하지 않길 바라요.      2\n",
       "\n",
       "[6533 rows x 3 columns]"
      ]
     },
     "execution_count": 24,
     "metadata": {},
     "output_type": "execute_result"
    }
   ],
   "source": [
    "df_need"
   ]
  },
  {
   "cell_type": "code",
   "execution_count": 26,
   "id": "fc971740-fc29-4aae-b23b-b4ac487c9e0c",
   "metadata": {},
   "outputs": [],
   "source": [
    "df_shuffled = df_need.sample(frac=1).reset_index(drop=True)"
   ]
  },
  {
   "cell_type": "code",
   "execution_count": 33,
   "id": "e0e9ca38-aaca-412c-9b03-4dcbd599d4a0",
   "metadata": {},
   "outputs": [],
   "source": [
    "train_data = list(df_shuffled.Q)[:4000]\n",
    "test_data = list(df_shuffled.Q)[4000:5000]"
   ]
  },
  {
   "cell_type": "code",
   "execution_count": 30,
   "id": "10a2bbe5-e33e-4588-9a8b-7d2ddd54f648",
   "metadata": {},
   "outputs": [],
   "source": [
    "train_label = list(df_shuffled.label)[:4000]\n",
    "test_label = list(df_shuffled.label)[4000:5000]"
   ]
  },
  {
   "cell_type": "code",
   "execution_count": 35,
   "id": "de619079-9d8e-4da6-aa72-00fa9392af3d",
   "metadata": {},
   "outputs": [
    {
     "data": {
      "text/plain": [
       "['좋아하는 사람 앞에서 실례를 했어.', '프사를 왜 보았을까', '답답해서', '짝사랑 해봤어?', '지난주 이별했네']"
      ]
     },
     "execution_count": 35,
     "metadata": {},
     "output_type": "execute_result"
    }
   ],
   "source": [
    "train_data[:5]"
   ]
  },
  {
   "cell_type": "code",
   "execution_count": 36,
   "id": "e8924b69-16ef-48ab-9f1e-35f2d74c8d10",
   "metadata": {},
   "outputs": [
    {
     "data": {
      "text/plain": [
       "[2, 1, 1, 2, 1]"
      ]
     },
     "execution_count": 36,
     "metadata": {},
     "output_type": "execute_result"
    }
   ],
   "source": [
    "train_label[:5]"
   ]
  },
  {
   "cell_type": "code",
   "execution_count": 39,
   "id": "56daee7c-dbab-4d27-9e0c-fbded6fc7792",
   "metadata": {},
   "outputs": [
    {
     "name": "stderr",
     "output_type": "stream",
     "text": [
      "/home/elicer/.local/lib/python3.10/site-packages/tqdm/auto.py:21: TqdmWarning: IProgress not found. Please update jupyter and ipywidgets. See https://ipywidgets.readthedocs.io/en/stable/user_install.html\n",
      "  from .autonotebook import tqdm as notebook_tqdm\n",
      "tokenizer_config.json: 100%|██████████| 29.0/29.0 [00:00<00:00, 183kB/s]\n",
      "vocab.txt: 100%|██████████| 996k/996k [00:00<00:00, 1.26MB/s]\n",
      "tokenizer.json: 100%|██████████| 1.96M/1.96M [00:00<00:00, 9.22MB/s]\n",
      "config.json: 100%|██████████| 625/625 [00:00<00:00, 1.63MB/s]\n"
     ]
    }
   ],
   "source": [
    "from transformers import BertTokenizer, BertModel"
   ]
  },
  {
   "cell_type": "code",
   "execution_count": 48,
   "id": "c46449b0-0d91-40c1-941c-e0a87f83ba34",
   "metadata": {},
   "outputs": [],
   "source": [
    "# 토크나이저 불러오기\n",
    "tokenizer = BertTokenizer.from_pretrained('bert-base-multilingual-cased', do_lower_case=False)"
   ]
  },
  {
   "cell_type": "code",
   "execution_count": 72,
   "id": "b45b7714-2a1b-4d58-8dc6-d4c889db3afd",
   "metadata": {},
   "outputs": [
    {
     "name": "stdout",
     "output_type": "stream",
     "text": [
      "39\n"
     ]
    }
   ],
   "source": [
    "# 최대값 구하기(최대 시퀀스 길이 설정할 때 참고용)\n",
    "temp = 0\n",
    "for _, sentence in enumerate(input_ids):\n",
    "    temp = max(temp, len(sentence))\n",
    "\n",
    "print(temp)\n",
    "\n",
    "# sequence 최대 길이가 39였기 때문에 여유를 두고 60으로 설정했습니다\n",
    "MAX_LEN = 60 #최대 시퀀스 길이 설정"
   ]
  },
  {
   "cell_type": "code",
   "execution_count": 75,
   "id": "ca9390b2-065e-48a2-ab5d-e9d0df20be9e",
   "metadata": {},
   "outputs": [],
   "source": [
    "# pad_sequences? Sequences로 이루어진 리스트를 Numpy 2d 배열로 바꿔주는 함수\n",
    "from keras.utils import pad_sequences"
   ]
  },
  {
   "cell_type": "code",
   "execution_count": 88,
   "id": "b08daff3-0035-4d01-aef2-3681749e24e0",
   "metadata": {},
   "outputs": [],
   "source": [
    "def tokenize_list(data):\n",
    "    sentences = [\"[CLS] \" + str(s) + \" [SEP]\" for s in data]\n",
    "    tokenized_texts = [tokenizer.tokenize(s) for s in sentences]\n",
    "\n",
    "    print(\"토크나이징 전: \", sentences[0])\n",
    "    print(\"토크나이징 후: \", tokenized_texts[0])\n",
    "\n",
    "    input_ids = [tokenizer.convert_tokens_to_ids(x) for x in tokenized_texts]\n",
    "    \n",
    "    return input_ids\n",
    "\n",
    "def transform_list(input_ids):\n",
    "    input_ids = pad_sequences(input_ids, maxlen=MAX_LEN, dtype=\"long\", truncating=\"post\", padding=\"post\")\n",
    "    return input_ids"
   ]
  },
  {
   "cell_type": "code",
   "execution_count": 92,
   "id": "75c86a74-6a91-40b3-af2f-6766546d7ccc",
   "metadata": {},
   "outputs": [
    {
     "name": "stdout",
     "output_type": "stream",
     "text": [
      "토크나이징 전:  [CLS] 장거리연애였는데 [SEP]\n",
      "토크나이징 후:  ['[CLS]', '장', '##거', '##리', '##연', '##애', '##였', '##는데', '[SEP]']\n",
      "4000 1000\n"
     ]
    }
   ],
   "source": [
    "test_input_ids = tokenize_list(test_data)\n",
    "test_input_ids = transform_list(test_input_ids)\n",
    "print(len(input_ids), len(test_input_ids))"
   ]
  },
  {
   "cell_type": "code",
   "execution_count": 98,
   "id": "3e4bb09c-220d-42c0-b87d-6808d49684a1",
   "metadata": {},
   "outputs": [
    {
     "data": {
      "text/plain": [
       "array([  101,  9685, 16985, 12178,  9405, 61250,  9531, 11489,  9489,\n",
       "       58762, 11513,  9965, 12965,   119,   102,     0,     0,     0,\n",
       "           0,     0,     0,     0,     0,     0,     0,     0,     0,\n",
       "           0,     0,     0,     0,     0,     0,     0,     0,     0,\n",
       "           0,     0,     0,     0,     0,     0,     0,     0,     0,\n",
       "           0,     0,     0,     0,     0,     0,     0,     0,     0,\n",
       "           0,     0,     0,     0,     0,     0])"
      ]
     },
     "execution_count": 98,
     "metadata": {},
     "output_type": "execute_result"
    }
   ],
   "source": [
    "input_ids[0]"
   ]
  },
  {
   "cell_type": "code",
   "execution_count": 87,
   "id": "f60f351b-cdd1-46d7-8e9e-54febf3d89e5",
   "metadata": {},
   "outputs": [
    {
     "name": "stdout",
     "output_type": "stream",
     "text": [
      "4000\n"
     ]
    }
   ],
   "source": [
    "# attention mask : padding된 값(즉, 0)을 구별할 수 있도록 생성\n",
    "attention_masks = []\n",
    "print(len(input_ids))\n",
    "for seq in input_ids:\n",
    "    seq_mask = [float(i>0) for i in seq]\n",
    "    attention_masks.append(seq_mask)"
   ]
  },
  {
   "cell_type": "code",
   "execution_count": 99,
   "id": "3a021039-583e-4aed-8424-ea57504ec9a7",
   "metadata": {},
   "outputs": [
    {
     "data": {
      "text/plain": [
       "0.0"
      ]
     },
     "execution_count": 99,
     "metadata": {},
     "output_type": "execute_result"
    }
   ],
   "source": [
    "seq_mask[50]"
   ]
  },
  {
   "cell_type": "code",
   "execution_count": 109,
   "id": "a1f21443-bbc3-494c-b437-93a185529a51",
   "metadata": {},
   "outputs": [],
   "source": [
    "np.save('./train_x', input_ids)\n",
    "np.save('./test_x', test_input_ids)"
   ]
  },
  {
   "cell_type": "code",
   "execution_count": 115,
   "id": "c9d44c08-c139-4597-9f5d-3b613da32e00",
   "metadata": {},
   "outputs": [],
   "source": [
    "np.save('./train_y', train_label)\n",
    "np.save('./test_y', test_label)"
   ]
  },
  {
   "cell_type": "code",
   "execution_count": 110,
   "id": "a8b7e3f4-24fa-45e0-b637-c6ca5c446aba",
   "metadata": {},
   "outputs": [],
   "source": [
    "train_x = np.load('train_x.npy') # 파일 불러와서 확인"
   ]
  },
  {
   "cell_type": "code",
   "execution_count": 103,
   "id": "c2732c9a-e1c1-47d5-9393-ace80fc5abfe",
   "metadata": {},
   "outputs": [],
   "source": [
    "# \"sangrimlee/bert-base-multilingual-cased-nsmc\"\n",
    "# model = TFBertModel.from_pretrained(\"bert-base-multilingual-cased\")"
   ]
  }
 ],
 "metadata": {
  "kernelspec": {
   "display_name": "Python 3 (ipykernel)",
   "language": "python",
   "name": "python3"
  },
  "language_info": {
   "codemirror_mode": {
    "name": "ipython",
    "version": 3
   },
   "file_extension": ".py",
   "mimetype": "text/x-python",
   "name": "python",
   "nbconvert_exporter": "python",
   "pygments_lexer": "ipython3",
   "version": "3.10.10"
  }
 },
 "nbformat": 4,
 "nbformat_minor": 5
}
